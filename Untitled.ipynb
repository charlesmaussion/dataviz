{
 "cells": [
  {
   "cell_type": "code",
   "execution_count": 6,
   "metadata": {},
   "outputs": [],
   "source": [
    "import pandas as pd\n",
    "\n",
    "data = pd.read_csv(\"./data.csv\", header=None, delimiter = ';')"
   ]
  },
  {
   "cell_type": "code",
   "execution_count": 16,
   "metadata": {},
   "outputs": [],
   "source": [
    "dico = {}\n",
    "\n",
    "for i in range(1,len(data)):\n",
    "    classe = data[1][i]\n",
    "    titre = data[3][i]\n",
    "    pret = int(data[2][i])\n",
    "    \n",
    "    if classe not in dico:\n",
    "        dico[classe] = {}\n",
    "        dico[classe][titre] = pret\n",
    "    else:\n",
    "        dico[classe][titre] = pret"
   ]
  },
  {
   "cell_type": "code",
   "execution_count": 35,
   "metadata": {},
   "outputs": [
    {
     "ename": "SyntaxError",
     "evalue": "invalid syntax (<ipython-input-35-69233513457d>, line 10)",
     "output_type": "error",
     "traceback": [
      "\u001b[0;36m  File \u001b[0;32m\"<ipython-input-35-69233513457d>\"\u001b[0;36m, line \u001b[0;32m10\u001b[0m\n\u001b[0;31m    },\u001b[0m\n\u001b[0m    ^\u001b[0m\n\u001b[0;31mSyntaxError\u001b[0m\u001b[0;31m:\u001b[0m invalid syntax\n"
     ]
    }
   ],
   "source": [
    "def printer(dico):\n",
    "    stringFinal = ''\n",
    "    for sub_class in dico:\n",
    "        if isinstance(dico[sub_class], int):\n",
    "            d = {'name':sub_class,\"size\":dico[sub_class]}\n",
    "        else:\n",
    "            d = {\"name\":str(sub_class),\n",
    "     \"children\":[\n",
    "         printer(dico[sub_class])},\n",
    "         \n",
    "    return(d)"
   ]
  },
  {
   "cell_type": "code",
   "execution_count": 34,
   "metadata": {},
   "outputs": [],
   "source": [
    "d = {\"name\":\"interpolator\",\n",
    "     \"children\":[{'name':key,\"size\":value} for key,value in sample.items()]}\n",
    "j = json.dumps(d, indent=4)\n",
    "f = open('sample.json', 'w')\n",
    "print >> f, j\n",
    "f.close()"
   ]
  },
  {
   "cell_type": "code",
   "execution_count": 43,
   "metadata": {},
   "outputs": [],
   "source": [
    "d = {\"name\":\"Livres\",\n",
    "     \"children\":\n",
    "     [\n",
    "         {'name':sample,\"children\":\n",
    "          [\n",
    "              {'name':key,\"size\":value} for key,value in dico[sample].items()]} for sample in dico]}"
   ]
  },
  {
   "cell_type": "code",
   "execution_count": 46,
   "metadata": {},
   "outputs": [],
   "source": [
    "j = json.dumps(d, indent=2)\n",
    "f = open('sample.json', 'w')\n",
    "print(j, file = f)\n",
    "f.close()"
   ]
  },
  {
   "cell_type": "code",
   "execution_count": null,
   "metadata": {},
   "outputs": [],
   "source": []
  }
 ],
 "metadata": {
  "kernelspec": {
   "display_name": "Python 3",
   "language": "python",
   "name": "python3"
  },
  "language_info": {
   "codemirror_mode": {
    "name": "ipython",
    "version": 3
   },
   "file_extension": ".py",
   "mimetype": "text/x-python",
   "name": "python",
   "nbconvert_exporter": "python",
   "pygments_lexer": "ipython3",
   "version": "3.6.3"
  }
 },
 "nbformat": 4,
 "nbformat_minor": 2
}
